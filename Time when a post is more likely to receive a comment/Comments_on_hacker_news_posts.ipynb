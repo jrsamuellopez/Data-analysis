{
 "cells": [
  {
   "cell_type": "markdown",
   "metadata": {},
   "source": [
    "# Q: When should I post to get a higher number of comments?\n",
    "\n",
    "A: Take a look at the hours when your post is more likely to receive comments\n",
    "\n",
    "## Introduction\n",
    "\n",
    "This notebook contains an analysis of the *show posts* and *ask posts* in the popular website called **Hacker News**. The goal is to inform the reader at which hour there is a higher chance on receiving feedback to their post. Moreover, I analyze if there is a difference in times if the post is written as a question or not.\n",
    "\n",
    "### Import libraries"
   ]
  },
  {
   "cell_type": "code",
   "execution_count": 1,
   "metadata": {},
   "outputs": [],
   "source": [
    "from csv import reader\n",
    "import datetime as dt"
   ]
  },
  {
   "cell_type": "markdown",
   "metadata": {},
   "source": [
    "### Read the file and explore the features of every post"
   ]
  },
  {
   "cell_type": "code",
   "execution_count": 2,
   "metadata": {},
   "outputs": [
    {
     "name": "stdout",
     "output_type": "stream",
     "text": [
      "[['id', 'title', 'url', 'num_points', 'num_comments', 'author', 'created_at'], ['12224879', 'Interactive Dynamic Video', 'http://www.interactivedynamicvideo.com/', '386', '52', 'ne0phyte', '8/4/2016 11:52'], ['10975351', 'How to Use Open Source and Shut the Fuck Up at the Same Time', 'http://hueniverse.com/2016/01/26/how-to-use-open-source-and-shut-the-fuck-up-at-the-same-time/', '39', '10', 'josep2', '1/26/2016 19:30'], ['11964716', \"Florida DJs May Face Felony for April Fools' Water Joke\", 'http://www.thewire.com/entertainment/2013/04/florida-djs-april-fools-water-joke/63798/', '2', '1', 'vezycash', '6/23/2016 22:20'], ['11919867', 'Technology ventures: From Idea to Enterprise', 'https://www.amazon.com/Technology-Ventures-Enterprise-Thomas-Byers/dp/0073523429', '3', '1', 'hswarna', '6/17/2016 0:01']]\n"
     ]
    }
   ],
   "source": [
    "opened_file = open(\"hacker_news.csv\")\n",
    "read_file = reader(opened_file)\n",
    "hn = list(read_file)\n",
    "print(hn[:5])"
   ]
  },
  {
   "cell_type": "code",
   "execution_count": 3,
   "metadata": {},
   "outputs": [
    {
     "name": "stdout",
     "output_type": "stream",
     "text": [
      "['id', 'title', 'url', 'num_points', 'num_comments', 'author', 'created_at']\n",
      "[['12224879', 'Interactive Dynamic Video', 'http://www.interactivedynamicvideo.com/', '386', '52', 'ne0phyte', '8/4/2016 11:52'], ['10975351', 'How to Use Open Source and Shut the Fuck Up at the Same Time', 'http://hueniverse.com/2016/01/26/how-to-use-open-source-and-shut-the-fuck-up-at-the-same-time/', '39', '10', 'josep2', '1/26/2016 19:30'], ['11964716', \"Florida DJs May Face Felony for April Fools' Water Joke\", 'http://www.thewire.com/entertainment/2013/04/florida-djs-april-fools-water-joke/63798/', '2', '1', 'vezycash', '6/23/2016 22:20'], ['11919867', 'Technology ventures: From Idea to Enterprise', 'https://www.amazon.com/Technology-Ventures-Enterprise-Thomas-Byers/dp/0073523429', '3', '1', 'hswarna', '6/17/2016 0:01'], ['10301696', 'Note by Note: The Making of Steinway L1037 (2007)', 'http://www.nytimes.com/2007/11/07/movies/07stein.html?_r=0', '8', '2', 'walterbell', '9/30/2015 4:12']]\n"
     ]
    }
   ],
   "source": [
    "headers = hn[0]\n",
    "hn = hn[1:]\n",
    "print(headers)\n",
    "print(hn[:5])"
   ]
  },
  {
   "cell_type": "markdown",
   "metadata": {},
   "source": [
    "### Divide the data\n",
    "\n",
    "Count the number of *ask posts* and *show posts*, and divide them in different lists."
   ]
  },
  {
   "cell_type": "code",
   "execution_count": 4,
   "metadata": {},
   "outputs": [
    {
     "name": "stdout",
     "output_type": "stream",
     "text": [
      "1744\n",
      "1162\n",
      "17194\n"
     ]
    }
   ],
   "source": [
    "ask_posts = []\n",
    "show_posts = []\n",
    "other_posts = []\n",
    "\n",
    "for row in hn:\n",
    "    title = row[1]\n",
    "    if title.lower().startswith('ask hn'):\n",
    "        ask_posts.append(row)\n",
    "    elif title.lower().startswith('show hn'):\n",
    "        show_posts.append(row)   \n",
    "    else:\n",
    "        other_posts.append(row)\n",
    "        \n",
    "print(len(ask_posts))\n",
    "print(len(show_posts))\n",
    "print(len(other_posts))"
   ]
  },
  {
   "cell_type": "markdown",
   "metadata": {},
   "source": [
    "## Which type of posts receive a higher number of comments?\n",
    "\n",
    "Accordingly to this analysis, the *ask posts* are the one receiving a higher feedback from other users. "
   ]
  },
  {
   "cell_type": "code",
   "execution_count": 5,
   "metadata": {},
   "outputs": [
    {
     "name": "stdout",
     "output_type": "stream",
     "text": [
      "Average number of comments in ask posts: 14.04\n",
      "Average number of comments in show posts: 10.32\n"
     ]
    }
   ],
   "source": [
    "total_ask_comments = 0\n",
    "\n",
    "for row in ask_posts:\n",
    "    num_comments = int(row[4])\n",
    "    total_ask_comments += num_comments\n",
    "    \n",
    "avg_ask_comments = total_ask_comments/len(ask_posts)\n",
    "print(\"Average number of comments in ask posts: {:,.2f}\".format(avg_ask_comments))\n",
    "\n",
    "\n",
    "total_show_comments = 0\n",
    "\n",
    "for row in show_posts:\n",
    "    num_comments = int(row[4])\n",
    "    total_show_comments += num_comments\n",
    "    \n",
    "avg_show_comments = total_show_comments/len(show_posts)\n",
    "print(\"Average number of comments in show posts: {:,.2f}\".format(avg_show_comments))\n"
   ]
  },
  {
   "cell_type": "markdown",
   "metadata": {},
   "source": [
    "Just an example of two *ask posts* and two *show posts*"
   ]
  },
  {
   "cell_type": "code",
   "execution_count": 6,
   "metadata": {},
   "outputs": [
    {
     "name": "stdout",
     "output_type": "stream",
     "text": [
      "[['12296411', 'Ask HN: How to improve my personal website?', '', '2', '6', 'ahmedbaracat', '8/16/2016 9:55'], ['10610020', 'Ask HN: Am I the only one outraged by Twitter shutting down share counts?', '', '28', '29', 'tkfx', '11/22/2015 13:43']]\n"
     ]
    }
   ],
   "source": [
    "print(ask_posts[:2])"
   ]
  },
  {
   "cell_type": "code",
   "execution_count": 7,
   "metadata": {},
   "outputs": [
    {
     "name": "stdout",
     "output_type": "stream",
     "text": [
      "[['10627194', 'Show HN: Wio Link  ESP8266 Based Web of Things Hardware Development Platform', 'https://iot.seeed.cc', '26', '22', 'kfihihc', '11/25/2015 14:03'], ['10646440', 'Show HN: Something pointless I made', 'http://dn.ht/picklecat/', '747', '102', 'dhotson', '11/29/2015 22:46']]\n"
     ]
    }
   ],
   "source": [
    "print(show_posts[:2])"
   ]
  },
  {
   "cell_type": "markdown",
   "metadata": {},
   "source": [
    "## Analyze the posting time with respect to the number of comments"
   ]
  },
  {
   "cell_type": "code",
   "execution_count": 8,
   "metadata": {},
   "outputs": [
    {
     "name": "stdout",
     "output_type": "stream",
     "text": [
      "Top hours to get an answer on an ask post\n",
      "15:00 38.59 average comments per post\n",
      "02:00 23.81 average comments per post\n",
      "20:00 21.52 average comments per post\n",
      "16:00 16.80 average comments per post\n",
      "21:00 16.01 average comments per post\n",
      "13:00 14.74 average comments per post\n",
      "10:00 13.44 average comments per post\n",
      "14:00 13.23 average comments per post\n",
      "18:00 13.20 average comments per post\n",
      "17:00 11.46 average comments per post\n",
      "01:00 11.38 average comments per post\n",
      "11:00 11.05 average comments per post\n",
      "19:00 10.80 average comments per post\n",
      "08:00 10.25 average comments per post\n",
      "05:00 10.09 average comments per post\n",
      "12:00 9.41 average comments per post\n",
      "06:00 9.02 average comments per post\n",
      "00:00 8.13 average comments per post\n",
      "23:00 7.99 average comments per post\n",
      "07:00 7.85 average comments per post\n",
      "03:00 7.80 average comments per post\n",
      "04:00 7.17 average comments per post\n",
      "22:00 6.75 average comments per post\n",
      "09:00 5.58 average comments per post\n"
     ]
    }
   ],
   "source": [
    "result_list = []\n",
    "\n",
    "for row in ask_posts:\n",
    "    created_at = row[6]\n",
    "    num_comments = int(row[4])\n",
    "    result_list.append([created_at, num_comments])\n",
    "\n",
    "counts_by_hour = {}\n",
    "comments_by_hour = {}\n",
    "\n",
    "for date, n_com in result_list:\n",
    "    date_final = dt.datetime.strptime(date, \"%m/%d/%Y %H:%M\")\n",
    "    \n",
    "    if date_final.hour not in counts_by_hour:\n",
    "        counts_by_hour[date_final.hour] = 1\n",
    "        comments_by_hour[date_final.hour] = n_com\n",
    "    else:\n",
    "        counts_by_hour[date_final.hour] += 1\n",
    "        comments_by_hour[date_final.hour] += n_com\n",
    "        \n",
    "avg_by_hour = []\n",
    "\n",
    "for hour in counts_by_hour:\n",
    "    avg_by_hour.append([hour, comments_by_hour[hour]/counts_by_hour[hour]])\n",
    "    \n",
    "    \n",
    "swap_avg_by_hour = []\n",
    "\n",
    "for row in avg_by_hour:\n",
    "    swap_avg_by_hour.append([row[1], row[0]])\n",
    "    \n",
    "sorted_swap = sorted(swap_avg_by_hour, reverse=True)\n",
    "\n",
    "print(\"Top hours to get an answer on an ask post\")\n",
    "for avg, hour in sorted_swap:\n",
    "    hour = dt.datetime.strptime(str(hour), \"%H\")\n",
    "    hour_format = dt.datetime.strftime(hour, \"%H:%M\")\n",
    "    print(\"{} {:.2f} average comments per post\".format(hour_format, avg))"
   ]
  },
  {
   "cell_type": "code",
   "execution_count": 9,
   "metadata": {},
   "outputs": [
    {
     "name": "stdout",
     "output_type": "stream",
     "text": [
      "Top hours to get an answer on a show post\n",
      "18:00 15.77 average comments per post\n",
      "00:00 15.71 average comments per post\n",
      "14:00 13.44 average comments per post\n",
      "23:00 12.42 average comments per post\n",
      "22:00 12.39 average comments per post\n",
      "12:00 11.80 average comments per post\n",
      "16:00 11.66 average comments per post\n",
      "07:00 11.50 average comments per post\n",
      "11:00 11.16 average comments per post\n",
      "03:00 10.63 average comments per post\n",
      "20:00 10.20 average comments per post\n",
      "19:00 9.80 average comments per post\n",
      "17:00 9.80 average comments per post\n",
      "09:00 9.70 average comments per post\n",
      "13:00 9.56 average comments per post\n",
      "04:00 9.50 average comments per post\n",
      "06:00 8.88 average comments per post\n",
      "01:00 8.79 average comments per post\n",
      "10:00 8.25 average comments per post\n",
      "15:00 8.10 average comments per post\n",
      "21:00 5.79 average comments per post\n",
      "08:00 4.85 average comments per post\n",
      "02:00 4.23 average comments per post\n",
      "05:00 3.05 average comments per post\n"
     ]
    }
   ],
   "source": [
    "result_list = []\n",
    "\n",
    "for row in show_posts:\n",
    "    created_at = row[6]\n",
    "    num_comments = int(row[4])\n",
    "    result_list.append([created_at, num_comments])\n",
    "\n",
    "counts_by_hour = {}\n",
    "comments_by_hour = {}\n",
    "\n",
    "for date, n_com in result_list:\n",
    "    date_final = dt.datetime.strptime(date, \"%m/%d/%Y %H:%M\")\n",
    "    \n",
    "    if date_final.hour not in counts_by_hour:\n",
    "        counts_by_hour[date_final.hour] = 1\n",
    "        comments_by_hour[date_final.hour] = n_com\n",
    "    else:\n",
    "        counts_by_hour[date_final.hour] += 1\n",
    "        comments_by_hour[date_final.hour] += n_com\n",
    "        \n",
    "avg_by_hour = []\n",
    "\n",
    "for hour in counts_by_hour:\n",
    "    avg_by_hour.append([hour, comments_by_hour[hour]/counts_by_hour[hour]])\n",
    "    \n",
    "    \n",
    "swap_avg_by_hour = []\n",
    "\n",
    "for row in avg_by_hour:\n",
    "    swap_avg_by_hour.append([row[1], row[0]])\n",
    "    \n",
    "sorted_swap = sorted(swap_avg_by_hour, reverse=True)\n",
    "\n",
    "print(\"Top hours to get an answer on a show post\")\n",
    "for avg, hour in sorted_swap:\n",
    "    hour = dt.datetime.strptime(str(hour), \"%H\")\n",
    "    hour_format = dt.datetime.strftime(hour, \"%H:%M\")\n",
    "    print(\"{} {:.2f} average comments per post\".format(hour_format, avg))"
   ]
  }
 ],
 "metadata": {
  "kernelspec": {
   "display_name": "Python [default]",
   "language": "python",
   "name": "python3"
  },
  "language_info": {
   "codemirror_mode": {
    "name": "ipython",
    "version": 3
   },
   "file_extension": ".py",
   "mimetype": "text/x-python",
   "name": "python",
   "nbconvert_exporter": "python",
   "pygments_lexer": "ipython3",
   "version": "3.6.5"
  }
 },
 "nbformat": 4,
 "nbformat_minor": 2
}
