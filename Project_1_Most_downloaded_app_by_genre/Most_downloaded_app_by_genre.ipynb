{
 "cells": [
  {
   "cell_type": "markdown",
   "metadata": {},
   "source": [
    "# Revenue analysis from free apps on Google Play and the App Store\n",
    "\n",
    "This is a data analysis of apps in Google Play and the App Store. The goal of this project is to identify which type of free apps generate the greater number of downloads. The free apps generate revenue depending on in-app ads, and therefore the number of downloads is a reliable indicator of profitability. It is important to mention that I do not analyze the time each user spend using each app which will have an impact in the number of ads, and thus, the profitability of the app types.\n",
    "\n",
    "## Import the data"
   ]
  },
  {
   "cell_type": "code",
   "execution_count": 1,
   "metadata": {},
   "outputs": [],
   "source": [
    "from csv import reader\n",
    "\n",
    "def open_file(path):\n",
    "    opened_file = open(path, encoding=\"utf8\")\n",
    "    read_file = reader(opened_file)\n",
    "    dataset = list(read_file)\n",
    "    return dataset"
   ]
  },
  {
   "cell_type": "markdown",
   "metadata": {},
   "source": [
    "## Explore the data\n",
    "\n",
    "Look in how the data is structured and what type of information is given by app in the two different datasets (Google Play and App Store)."
   ]
  },
  {
   "cell_type": "code",
   "execution_count": 2,
   "metadata": {},
   "outputs": [],
   "source": [
    "def explore_data(dataset, start, end, rows_and_columns=False):\n",
    "    dataset_slice = dataset[start:end]    \n",
    "    for row in dataset_slice:\n",
    "        print(row)\n",
    "        print('\\n') # adds a new (empty) line after each row\n",
    "\n",
    "    if rows_and_columns:\n",
    "        print('Number of rows:', len(dataset))\n",
    "        print('Number of columns:', len(dataset[0]))"
   ]
  },
  {
   "cell_type": "code",
   "execution_count": 3,
   "metadata": {},
   "outputs": [],
   "source": [
    "appstore_data = open_file('AppleStore.csv')\n",
    "googleplay_data = open_file('googleplaystore.csv')"
   ]
  },
  {
   "cell_type": "code",
   "execution_count": 4,
   "metadata": {},
   "outputs": [
    {
     "name": "stdout",
     "output_type": "stream",
     "text": [
      "['id', 'track_name', 'size_bytes', 'currency', 'price', 'rating_count_tot', 'rating_count_ver', 'user_rating', 'user_rating_ver', 'ver', 'cont_rating', 'prime_genre', 'sup_devices.num', 'ipadSc_urls.num', 'lang.num', 'vpp_lic']\n",
      "\n",
      "\n",
      "['284882215', 'Facebook', '389879808', 'USD', '0.0', '2974676', '212', '3.5', '3.5', '95.0', '4+', 'Social Networking', '37', '1', '29', '1']\n",
      "\n",
      "\n",
      "['389801252', 'Instagram', '113954816', 'USD', '0.0', '2161558', '1289', '4.5', '4.0', '10.23', '12+', 'Photo & Video', '37', '0', '29', '1']\n",
      "\n",
      "\n",
      "['App', 'Category', 'Rating', 'Reviews', 'Size', 'Installs', 'Type', 'Price', 'Content Rating', 'Genres', 'Last Updated', 'Current Ver', 'Android Ver']\n",
      "\n",
      "\n",
      "['Photo Editor & Candy Camera & Grid & ScrapBook', 'ART_AND_DESIGN', '4.1', '159', '19M', '10,000+', 'Free', '0', 'Everyone', 'Art & Design', 'January 7, 2018', '1.0.0', '4.0.3 and up']\n",
      "\n",
      "\n",
      "['Coloring book moana', 'ART_AND_DESIGN', '3.9', '967', '14M', '500,000+', 'Free', '0', 'Everyone', 'Art & Design;Pretend Play', 'January 15, 2018', '2.0.0', '4.0.3 and up']\n",
      "\n",
      "\n"
     ]
    }
   ],
   "source": [
    "explore_data(appstore_data, 0, 3)\n",
    "explore_data(googleplay_data, 0, 3)"
   ]
  },
  {
   "cell_type": "code",
   "execution_count": 5,
   "metadata": {},
   "outputs": [],
   "source": [
    "del googleplay_data[10472+1]"
   ]
  },
  {
   "cell_type": "markdown",
   "metadata": {},
   "source": [
    "## Process the data\n",
    "\n",
    "### Removing duplicates\n",
    "\n",
    "Removing duplicate apps in the Google Play dataset. The entry with the highest number of reviews (i.e. the most recent entry) will be kept."
   ]
  },
  {
   "cell_type": "code",
   "execution_count": 6,
   "metadata": {},
   "outputs": [],
   "source": [
    "reviews_max = {}\n",
    "\n",
    "for app in googleplay_data[1:]:\n",
    "    name = app[0]\n",
    "    n_reviews = float(app[3])\n",
    "    \n",
    "    if (name in reviews_max) and (reviews_max[name] < n_reviews):\n",
    "        reviews_max[name] = n_reviews\n",
    "        \n",
    "    if name not in reviews_max:\n",
    "        reviews_max[name] = n_reviews"
   ]
  },
  {
   "cell_type": "code",
   "execution_count": 7,
   "metadata": {},
   "outputs": [
    {
     "data": {
      "text/plain": [
       "9659"
      ]
     },
     "execution_count": 7,
     "metadata": {},
     "output_type": "execute_result"
    }
   ],
   "source": [
    "len(reviews_max)"
   ]
  },
  {
   "cell_type": "code",
   "execution_count": 8,
   "metadata": {},
   "outputs": [
    {
     "data": {
      "text/plain": [
       "9659"
      ]
     },
     "execution_count": 8,
     "metadata": {},
     "output_type": "execute_result"
    }
   ],
   "source": [
    "android_clean = []\n",
    "already_added = []\n",
    "\n",
    "for app in googleplay_data[1:]:\n",
    "    name = app[0]\n",
    "    n_reviews = float(app[3])\n",
    "    \n",
    "    if (n_reviews == reviews_max[name]) and (name not in already_added):\n",
    "        android_clean.append(app)\n",
    "        already_added.append(name)\n",
    "        \n",
    "len(android_clean)"
   ]
  },
  {
   "cell_type": "markdown",
   "metadata": {},
   "source": [
    "### Remove non-English apps\n",
    "\n",
    "For a more objective metric, let's focus on only apps with english characters in their names."
   ]
  },
  {
   "cell_type": "code",
   "execution_count": 9,
   "metadata": {},
   "outputs": [],
   "source": [
    "def is_it_english(any_string):\n",
    "    count_non_english = 0\n",
    "    for c in any_string:\n",
    "        if ord(c) > 127:\n",
    "            count_non_english +=1\n",
    "        if (count_non_english > 3) and (len(any_string) > 3):\n",
    "            return False\n",
    "    return True"
   ]
  },
  {
   "cell_type": "code",
   "execution_count": 10,
   "metadata": {},
   "outputs": [
    {
     "name": "stdout",
     "output_type": "stream",
     "text": [
      "True\n",
      "False\n",
      "True\n",
      "True\n"
     ]
    }
   ],
   "source": [
    "print(is_it_english('Instagram'))\n",
    "print(is_it_english('爱奇艺PPS -《欢乐颂2》电视剧热播'))\n",
    "print(is_it_english('Docs To Go™ Free Office Suite'))\n",
    "print(is_it_english('Instachat 😜'))"
   ]
  },
  {
   "cell_type": "code",
   "execution_count": 11,
   "metadata": {},
   "outputs": [],
   "source": [
    "appstore_english = []\n",
    "googleplay_english = []\n",
    "\n",
    "for app in appstore_data[1:]:\n",
    "    name = app[0]\n",
    "    if is_it_english(name):\n",
    "        appstore_english.append(app)\n",
    "        \n",
    "for app in android_clean:\n",
    "    name = app[0]\n",
    "    if is_it_english(name):\n",
    "        googleplay_english.append(app)"
   ]
  },
  {
   "cell_type": "code",
   "execution_count": 12,
   "metadata": {},
   "outputs": [
    {
     "data": {
      "text/plain": [
       "9614"
      ]
     },
     "execution_count": 12,
     "metadata": {},
     "output_type": "execute_result"
    }
   ],
   "source": [
    "len(googleplay_english)"
   ]
  },
  {
   "cell_type": "markdown",
   "metadata": {},
   "source": [
    "### Remove non-free apps\n",
    "\n",
    "Select only free apps"
   ]
  },
  {
   "cell_type": "code",
   "execution_count": 13,
   "metadata": {},
   "outputs": [],
   "source": [
    "app_free = []\n",
    "google_free = []\n",
    "\n",
    "for app in appstore_english:\n",
    "    price = float(app[4])\n",
    "    if price == 0.0:\n",
    "        app_free.append(app)\n",
    "        \n",
    "for app in googleplay_english:\n",
    "    price = app[6]\n",
    "    if price == 'Free':\n",
    "        google_free.append(app)"
   ]
  },
  {
   "cell_type": "markdown",
   "metadata": {},
   "source": [
    "## Evaluate the two datasets\n",
    "\n",
    "Now we want to create an app profile for both providers. In order to validate the idea of developing and app in both platforms, we need to look if the app might have a good response in both platforms."
   ]
  },
  {
   "cell_type": "code",
   "execution_count": 14,
   "metadata": {},
   "outputs": [],
   "source": [
    "def freq_table(dataset, index):\n",
    "    dictionary  = {}\n",
    "    for row in dataset:\n",
    "        content = row[index]\n",
    "        if content in dictionary:\n",
    "            dictionary[content] +=1\n",
    "        else:\n",
    "            dictionary[content] = 1\n",
    "    return dictionary"
   ]
  },
  {
   "cell_type": "code",
   "execution_count": 15,
   "metadata": {},
   "outputs": [],
   "source": [
    "def display_table(dataset, index):\n",
    "    table = freq_table(dataset, index)\n",
    "    table_display = []\n",
    "    for key in table:\n",
    "        key_val_as_tuple = (table[key], key)\n",
    "        table_display.append(key_val_as_tuple)\n",
    "\n",
    "    table_sorted = sorted(table_display, reverse = True)\n",
    "    for entry in table_sorted:\n",
    "        print(entry[1], ':', entry[0])"
   ]
  },
  {
   "cell_type": "markdown",
   "metadata": {},
   "source": [
    "### Check for the frequency of app types in the market\n",
    "\n",
    "Counting the number of apps is a proxy to know which app are most popular and most produced."
   ]
  },
  {
   "cell_type": "code",
   "execution_count": 16,
   "metadata": {},
   "outputs": [
    {
     "name": "stdout",
     "output_type": "stream",
     "text": [
      "GENRES FROM FREE ENGLISH APPS IN APPLESTORE\n",
      "Games : 2257\n",
      "Entertainment : 334\n",
      "Photo & Video : 167\n",
      "Social Networking : 143\n",
      "Education : 132\n",
      "Shopping : 121\n",
      "Utilities : 109\n",
      "Lifestyle : 94\n",
      "Finance : 84\n",
      "Sports : 79\n",
      "Health & Fitness : 76\n",
      "Music : 67\n",
      "Book : 66\n",
      "Productivity : 62\n",
      "News : 58\n",
      "Travel : 56\n",
      "Food & Drink : 43\n",
      "Weather : 31\n",
      "Reference : 20\n",
      "Navigation : 20\n",
      "Business : 20\n",
      "Catalogs : 9\n",
      "Medical : 8\n"
     ]
    }
   ],
   "source": [
    "print('GENRES FROM FREE ENGLISH APPS IN APPLESTORE')\n",
    "display_table(app_free, 11)"
   ]
  },
  {
   "cell_type": "code",
   "execution_count": 17,
   "metadata": {},
   "outputs": [
    {
     "name": "stdout",
     "output_type": "stream",
     "text": [
      "GENRES FROM FREE ENGLISH APPS IN GOOGLE PLAY\n",
      "FAMILY : 1675\n",
      "GAME : 862\n",
      "TOOLS : 750\n",
      "BUSINESS : 407\n",
      "LIFESTYLE : 346\n",
      "PRODUCTIVITY : 345\n",
      "FINANCE : 328\n",
      "MEDICAL : 313\n",
      "SPORTS : 301\n",
      "PERSONALIZATION : 294\n",
      "COMMUNICATION : 287\n",
      "HEALTH_AND_FITNESS : 273\n",
      "PHOTOGRAPHY : 261\n",
      "NEWS_AND_MAGAZINES : 248\n",
      "SOCIAL : 236\n",
      "TRAVEL_AND_LOCAL : 207\n",
      "SHOPPING : 199\n",
      "BOOKS_AND_REFERENCE : 190\n",
      "DATING : 165\n",
      "VIDEO_PLAYERS : 159\n",
      "MAPS_AND_NAVIGATION : 124\n",
      "FOOD_AND_DRINK : 110\n",
      "EDUCATION : 103\n",
      "ENTERTAINMENT : 85\n",
      "LIBRARIES_AND_DEMO : 83\n",
      "AUTO_AND_VEHICLES : 82\n",
      "HOUSE_AND_HOME : 73\n",
      "WEATHER : 71\n",
      "EVENTS : 63\n",
      "PARENTING : 58\n",
      "ART_AND_DESIGN : 57\n",
      "COMICS : 55\n",
      "BEAUTY : 53\n"
     ]
    }
   ],
   "source": [
    "print('GENRES FROM FREE ENGLISH APPS IN GOOGLE PLAY')\n",
    "display_table(google_free, 1)"
   ]
  },
  {
   "cell_type": "code",
   "execution_count": 18,
   "metadata": {},
   "outputs": [
    {
     "name": "stdout",
     "output_type": "stream",
     "text": [
      "CATEGORIES FROM FREE ENGLISH APPS IN GOOGLE PLAY\n",
      "Tools : 749\n",
      "Entertainment : 538\n",
      "Education : 474\n",
      "Business : 407\n",
      "Productivity : 345\n",
      "Lifestyle : 345\n",
      "Finance : 328\n",
      "Medical : 313\n",
      "Sports : 307\n",
      "Personalization : 294\n",
      "Communication : 287\n",
      "Action : 275\n",
      "Health & Fitness : 273\n",
      "Photography : 261\n",
      "News & Magazines : 248\n",
      "Social : 236\n",
      "Travel & Local : 206\n",
      "Shopping : 199\n",
      "Books & Reference : 190\n",
      "Simulation : 181\n",
      "Dating : 165\n",
      "Arcade : 164\n",
      "Video Players & Editors : 157\n",
      "Casual : 156\n",
      "Maps & Navigation : 124\n",
      "Food & Drink : 110\n",
      "Puzzle : 100\n",
      "Racing : 88\n",
      "Role Playing : 83\n",
      "Libraries & Demo : 83\n",
      "Auto & Vehicles : 82\n",
      "Strategy : 80\n",
      "House & Home : 73\n",
      "Weather : 71\n",
      "Events : 63\n",
      "Adventure : 60\n",
      "Comics : 54\n",
      "Beauty : 53\n",
      "Art & Design : 53\n",
      "Parenting : 44\n",
      "Card : 40\n",
      "Casino : 38\n",
      "Trivia : 37\n",
      "Educational;Education : 35\n",
      "Board : 34\n",
      "Educational : 33\n",
      "Education;Education : 30\n",
      "Word : 23\n",
      "Casual;Pretend Play : 21\n",
      "Music : 18\n",
      "Racing;Action & Adventure : 15\n",
      "Puzzle;Brain Games : 15\n",
      "Entertainment;Music & Video : 15\n",
      "Casual;Brain Games : 12\n",
      "Casual;Action & Adventure : 12\n",
      "Arcade;Action & Adventure : 11\n",
      "Action;Action & Adventure : 9\n",
      "Educational;Pretend Play : 8\n",
      "Simulation;Action & Adventure : 7\n",
      "Parenting;Education : 7\n",
      "Entertainment;Brain Games : 7\n",
      "Board;Brain Games : 7\n",
      "Parenting;Music & Video : 6\n",
      "Educational;Brain Games : 6\n",
      "Casual;Creativity : 6\n",
      "Art & Design;Creativity : 6\n",
      "Education;Pretend Play : 5\n",
      "Role Playing;Pretend Play : 4\n",
      "Education;Creativity : 4\n",
      "Role Playing;Action & Adventure : 3\n",
      "Puzzle;Action & Adventure : 3\n",
      "Entertainment;Creativity : 3\n",
      "Entertainment;Action & Adventure : 3\n",
      "Educational;Creativity : 3\n",
      "Educational;Action & Adventure : 3\n",
      "Education;Music & Video : 3\n",
      "Education;Brain Games : 3\n",
      "Education;Action & Adventure : 3\n",
      "Adventure;Action & Adventure : 3\n",
      "Video Players & Editors;Music & Video : 2\n",
      "Sports;Action & Adventure : 2\n",
      "Simulation;Pretend Play : 2\n",
      "Puzzle;Creativity : 2\n",
      "Music;Music & Video : 2\n",
      "Entertainment;Pretend Play : 2\n",
      "Casual;Education : 2\n",
      "Board;Action & Adventure : 2\n",
      "Video Players & Editors;Creativity : 1\n",
      "Trivia;Education : 1\n",
      "Travel & Local;Action & Adventure : 1\n",
      "Tools;Education : 1\n",
      "Strategy;Education : 1\n",
      "Strategy;Creativity : 1\n",
      "Strategy;Action & Adventure : 1\n",
      "Simulation;Education : 1\n",
      "Role Playing;Brain Games : 1\n",
      "Racing;Pretend Play : 1\n",
      "Puzzle;Education : 1\n",
      "Parenting;Brain Games : 1\n",
      "Music & Audio;Music & Video : 1\n",
      "Lifestyle;Pretend Play : 1\n",
      "Lifestyle;Education : 1\n",
      "Health & Fitness;Education : 1\n",
      "Health & Fitness;Action & Adventure : 1\n",
      "Entertainment;Education : 1\n",
      "Communication;Creativity : 1\n",
      "Comics;Creativity : 1\n",
      "Casual;Music & Video : 1\n",
      "Card;Action & Adventure : 1\n",
      "Books & Reference;Education : 1\n",
      "Art & Design;Pretend Play : 1\n",
      "Art & Design;Action & Adventure : 1\n",
      "Arcade;Pretend Play : 1\n",
      "Adventure;Education : 1\n"
     ]
    }
   ],
   "source": [
    "print('CATEGORIES FROM FREE ENGLISH APPS IN GOOGLE PLAY')\n",
    "display_table(google_free, 9)"
   ]
  },
  {
   "cell_type": "markdown",
   "metadata": {},
   "source": [
    "### Check for the number of installs of each app type\n",
    "\n",
    "Knowing the average and/or median number of installs of an app is a proxy to know which app types are the most downloaded."
   ]
  },
  {
   "cell_type": "code",
   "execution_count": 19,
   "metadata": {
    "scrolled": true
   },
   "outputs": [
    {
     "name": "stdout",
     "output_type": "stream",
     "text": [
      "Social Networking: 53078.195804195806\n",
      "Photo & Video: 27249.892215568863\n",
      "Games: 18924.68896765618\n",
      "Music: 56482.02985074627\n",
      "Reference: 67447.9\n",
      "Health & Fitness: 19952.315789473683\n",
      "Weather: 47220.93548387097\n",
      "Utilities: 14010.100917431193\n",
      "Travel: 20216.01785714286\n",
      "Shopping: 18746.677685950413\n",
      "News: 15892.724137931034\n",
      "Navigation: 25972.05\n",
      "Lifestyle: 8978.308510638299\n",
      "Entertainment: 10822.961077844311\n",
      "Food & Drink: 20179.093023255813\n",
      "Sports: 20128.974683544304\n",
      "Book: 8498.333333333334\n",
      "Finance: 13522.261904761905\n",
      "Education: 6266.333333333333\n",
      "Productivity: 19053.887096774193\n",
      "Business: 6367.8\n",
      "Catalogs: 1779.5555555555557\n",
      "Medical: 459.75\n"
     ]
    }
   ],
   "source": [
    "genres_app_free = freq_table(app_free, 11)\n",
    "\n",
    "for genre in genres_app_free:\n",
    "    total = 0\n",
    "    len_genre = 0\n",
    "    \n",
    "    for app in app_free:\n",
    "        genre_app = app[11]\n",
    "        \n",
    "        if genre_app == genre:\n",
    "            total += float(app[5]) # ratings\n",
    "            len_genre += 1\n",
    "    \n",
    "    avg_rating = total/len_genre\n",
    "    print(genre + ': ' + str(avg_rating))"
   ]
  },
  {
   "cell_type": "code",
   "execution_count": 20,
   "metadata": {
    "scrolled": true
   },
   "outputs": [
    {
     "name": "stdout",
     "output_type": "stream",
     "text": [
      "ART_AND_DESIGN: 1986335.0877192982\n",
      "AUTO_AND_VEHICLES: 647317.8170731707\n",
      "BEAUTY: 513151.88679245283\n",
      "BOOKS_AND_REFERENCE: 8767811.894736841\n",
      "BUSINESS: 1712290.1474201474\n",
      "COMICS: 817657.2727272727\n",
      "COMMUNICATION: 38456119.167247385\n",
      "DATING: 854028.8303030303\n",
      "EDUCATION: 1833495.145631068\n",
      "ENTERTAINMENT: 11640705.88235294\n",
      "EVENTS: 253542.22222222222\n",
      "FINANCE: 1387692.475609756\n",
      "FOOD_AND_DRINK: 1924897.7363636363\n",
      "HEALTH_AND_FITNESS: 4188821.9853479853\n",
      "HOUSE_AND_HOME: 1331540.5616438356\n",
      "LIBRARIES_AND_DEMO: 638503.734939759\n",
      "LIFESTYLE: 1437816.2687861272\n",
      "GAME: 15588015.603248259\n",
      "FAMILY: 3697848.1731343283\n",
      "MEDICAL: 120550.61980830671\n",
      "SOCIAL: 23253652.127118643\n",
      "SHOPPING: 7036877.311557789\n",
      "PHOTOGRAPHY: 17840110.40229885\n",
      "SPORTS: 3638640.1428571427\n",
      "TRAVEL_AND_LOCAL: 13984077.710144928\n",
      "TOOLS: 10801391.298666667\n",
      "PERSONALIZATION: 5201482.6122448975\n",
      "PRODUCTIVITY: 16787331.344927534\n",
      "PARENTING: 542603.6206896552\n",
      "WEATHER: 5074486.197183099\n",
      "VIDEO_PLAYERS: 24727872.452830188\n",
      "NEWS_AND_MAGAZINES: 9549178.467741935\n",
      "MAPS_AND_NAVIGATION: 4056941.7741935486\n"
     ]
    }
   ],
   "source": [
    "category_google_free = freq_table(google_free, 1)\n",
    "\n",
    "for category in category_google_free:\n",
    "    total = 0\n",
    "    len_genre = 0\n",
    "    \n",
    "    for app in google_free:\n",
    "        category_app = app[1]\n",
    "        \n",
    "        if category_app == category:\n",
    "            n_installs = app[5]\n",
    "            n_installs = n_installs.replace('+','')\n",
    "            n_installs = n_installs.replace(',','')\n",
    "            total += float(n_installs) # ratings\n",
    "            len_genre += 1\n",
    "    \n",
    "    avg_rating = total/len_genre\n",
    "    print(category + ': ' + str(avg_rating))"
   ]
  },
  {
   "cell_type": "markdown",
   "metadata": {},
   "source": [
    "The average rating might not be the best example since it can be heavily skewed by outliers. The median is computed in the cells below."
   ]
  },
  {
   "cell_type": "code",
   "execution_count": 21,
   "metadata": {},
   "outputs": [],
   "source": [
    "import numpy as np\n",
    "\n",
    "genres_app_free = freq_table(app_free, 11)\n",
    "\n",
    "all_median_rating = {}\n",
    "all_mean_rating = {}\n",
    "\n",
    "for genre in genres_app_free:\n",
    "    total = []\n",
    "    \n",
    "    for app in app_free:\n",
    "        genre_app = app[11]\n",
    "        \n",
    "        if genre_app == genre:\n",
    "            total.append(float(app[5])) # ratings\n",
    "    \n",
    "    median_rating = np.median(total)\n",
    "    all_median_rating[genre] = median_rating\n",
    "    \n",
    "    mean_rating = np.mean(total)\n",
    "    all_mean_rating[genre] = mean_rating\n"
   ]
  },
  {
   "cell_type": "markdown",
   "metadata": {},
   "source": [
    "## Most downloaded app types in App Store (from lower to higher number of installations)"
   ]
  },
  {
   "cell_type": "code",
   "execution_count": 22,
   "metadata": {
    "scrolled": true
   },
   "outputs": [
    {
     "data": {
      "text/plain": [
       "{'Book': 0.0,\n",
       " 'Catalogs': 0.0,\n",
       " 'Finance': 13.5,\n",
       " 'Navigation': 15.5,\n",
       " 'Medical': 17.5,\n",
       " 'Lifestyle': 125.0,\n",
       " 'Weather': 128.0,\n",
       " 'Food & Drink': 148.0,\n",
       " 'News': 263.5,\n",
       " 'Travel': 320.5,\n",
       " 'Games': 422.0,\n",
       " 'Education': 457.0,\n",
       " 'Utilities': 612.0,\n",
       " 'Entertainment': 640.5,\n",
       " 'Sports': 809.0,\n",
       " 'Business': 853.0,\n",
       " 'Health & Fitness': 882.0,\n",
       " 'Shopping': 895.0,\n",
       " 'Social Networking': 1033.0,\n",
       " 'Photo & Video': 2099.0,\n",
       " 'Reference': 3095.0,\n",
       " 'Music': 3687.0,\n",
       " 'Productivity': 5335.0}"
      ]
     },
     "execution_count": 22,
     "metadata": {},
     "output_type": "execute_result"
    }
   ],
   "source": [
    "{k: v for k, v in sorted(all_median_rating.items(), key=lambda item: item[1])}"
   ]
  },
  {
   "cell_type": "markdown",
   "metadata": {},
   "source": [
    "## Most downloaded app types in Google Play Store (from lower to higher number of installations)"
   ]
  },
  {
   "cell_type": "code",
   "execution_count": 23,
   "metadata": {},
   "outputs": [],
   "source": [
    "import numpy as np\n",
    "\n",
    "category_google_free = freq_table(google_free, 1)\n",
    "\n",
    "all_median_rating = {}\n",
    "all_mean_rating = {}\n",
    "\n",
    "for category in category_google_free:\n",
    "    total = []\n",
    "    \n",
    "    for app in google_free:\n",
    "        category_app = app[1]\n",
    "        \n",
    "        if category_app == category:\n",
    "            n_installs = app[5]\n",
    "            n_installs = n_installs.replace('+','')\n",
    "            n_installs = n_installs.replace(',','')\n",
    "            total.append(float(n_installs)) # ratings\n",
    "    \n",
    "    median_rating = np.nanmedian(total)\n",
    "    all_median_rating[category] = median_rating\n",
    "    \n",
    "    mean_rating = np.nanmean(total)\n",
    "    all_mean_rating[category] = mean_rating"
   ]
  },
  {
   "cell_type": "code",
   "execution_count": 24,
   "metadata": {},
   "outputs": [
    {
     "data": {
      "text/plain": [
       "{'BUSINESS': 1000.0,\n",
       " 'EVENTS': 1000.0,\n",
       " 'MEDICAL': 1000.0,\n",
       " 'DATING': 10000.0,\n",
       " 'FINANCE': 10000.0,\n",
       " 'LIBRARIES_AND_DEMO': 10000.0,\n",
       " 'LIFESTYLE': 10000.0,\n",
       " 'BEAUTY': 50000.0,\n",
       " 'BOOKS_AND_REFERENCE': 50000.0,\n",
       " 'NEWS_AND_MAGAZINES': 50000.0,\n",
       " 'ART_AND_DESIGN': 100000.0,\n",
       " 'AUTO_AND_VEHICLES': 100000.0,\n",
       " 'COMICS': 100000.0,\n",
       " 'FAMILY': 100000.0,\n",
       " 'SOCIAL': 100000.0,\n",
       " 'SPORTS': 100000.0,\n",
       " 'TRAVEL_AND_LOCAL': 100000.0,\n",
       " 'TOOLS': 100000.0,\n",
       " 'PERSONALIZATION': 100000.0,\n",
       " 'PRODUCTIVITY': 100000.0,\n",
       " 'PARENTING': 100000.0,\n",
       " 'MAPS_AND_NAVIGATION': 100000.0,\n",
       " 'COMMUNICATION': 500000.0,\n",
       " 'FOOD_AND_DRINK': 500000.0,\n",
       " 'HEALTH_AND_FITNESS': 500000.0,\n",
       " 'HOUSE_AND_HOME': 500000.0,\n",
       " 'EDUCATION': 1000000.0,\n",
       " 'ENTERTAINMENT': 1000000.0,\n",
       " 'GAME': 1000000.0,\n",
       " 'SHOPPING': 1000000.0,\n",
       " 'PHOTOGRAPHY': 1000000.0,\n",
       " 'WEATHER': 1000000.0,\n",
       " 'VIDEO_PLAYERS': 1000000.0}"
      ]
     },
     "execution_count": 24,
     "metadata": {},
     "output_type": "execute_result"
    }
   ],
   "source": [
    "{k: v for k, v in sorted(all_median_rating.items(), key=lambda item: item[1])}"
   ]
  }
 ],
 "metadata": {
  "kernelspec": {
   "display_name": "Python [default]",
   "language": "python",
   "name": "python3"
  },
  "language_info": {
   "codemirror_mode": {
    "name": "ipython",
    "version": 3
   },
   "file_extension": ".py",
   "mimetype": "text/x-python",
   "name": "python",
   "nbconvert_exporter": "python",
   "pygments_lexer": "ipython3",
   "version": "3.6.5"
  }
 },
 "nbformat": 4,
 "nbformat_minor": 2
}
